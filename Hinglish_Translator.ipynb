{
  "nbformat": 4,
  "nbformat_minor": 0,
  "metadata": {
    "colab": {
      "provenance": [],
      "authorship_tag": "ABX9TyPRG6OqEJr2xsmlkHGov6WH",
      "include_colab_link": true
    },
    "kernelspec": {
      "name": "python3",
      "display_name": "Python 3"
    },
    "language_info": {
      "name": "python"
    }
  },
  "cells": [
    {
      "cell_type": "markdown",
      "metadata": {
        "id": "view-in-github",
        "colab_type": "text"
      },
      "source": [
        "<a href=\"https://colab.research.google.com/github/NihanaNzr/Hinglish_Translator/blob/main/Hinglish_Translator.ipynb\" target=\"_parent\"><img src=\"https://colab.research.google.com/assets/colab-badge.svg\" alt=\"Open In Colab\"/></a>"
      ]
    },
    {
      "cell_type": "code",
      "execution_count": null,
      "metadata": {
        "id": "KqxAlPHR4PjJ"
      },
      "outputs": [],
      "source": [
        "pip install transformers\n"
      ]
    },
    {
      "cell_type": "code",
      "source": [
        "from transformers import MarianMTModel, MarianTokenizer"
      ],
      "metadata": {
        "id": "Tmd_3Ple4shd"
      },
      "execution_count": 26,
      "outputs": []
    },
    {
      "cell_type": "code",
      "source": [
        "import re"
      ],
      "metadata": {
        "id": "zOgRFHRlDCnk"
      },
      "execution_count": 27,
      "outputs": []
    },
    {
      "cell_type": "code",
      "source": [
        "import nltk\n",
        "from nltk.tag import pos_tag\n",
        "from nltk.stem import WordNetLemmatizer\n",
        "from nltk.tokenize import word_tokenize\n",
        "from nltk.stem import WordNetLemmatizer"
      ],
      "metadata": {
        "id": "45GlmSNVDKmP"
      },
      "execution_count": 25,
      "outputs": []
    },
    {
      "cell_type": "markdown",
      "source": [
        " create an instance of the WordNetLemmatizer class from the Natural Language Toolkit (NLTK) library\n",
        ""
      ],
      "metadata": {
        "id": "SLMqGabgEbI9"
      }
    },
    {
      "cell_type": "code",
      "source": [
        "lemmatizer = WordNetLemmatizer()"
      ],
      "metadata": {
        "id": "0G2wX5m64zPn"
      },
      "execution_count": 5,
      "outputs": []
    },
    {
      "cell_type": "markdown",
      "source": [
        "For text tokenization, Install 'sentencepiece'."
      ],
      "metadata": {
        "id": "PbALS4rfE2H8"
      }
    },
    {
      "cell_type": "code",
      "source": [
        "pip install sentencepiece"
      ],
      "metadata": {
        "id": "oua3roBe5MAO"
      },
      "execution_count": null,
      "outputs": []
    },
    {
      "cell_type": "markdown",
      "source": [
        "Load pre-trained model from Huggingface Transformer"
      ],
      "metadata": {
        "id": "c1O-104aFNfb"
      }
    },
    {
      "cell_type": "code",
      "source": [
        "model = MarianMTModel.from_pretrained(\"Helsinki-NLP/opus-mt-en-hi\")\n",
        "tokenizer = MarianTokenizer.from_pretrained(\"Helsinki-NLP/opus-mt-en-hi\")"
      ],
      "metadata": {
        "id": "h6i4UDh65ryE"
      },
      "execution_count": null,
      "outputs": []
    },
    {
      "cell_type": "markdown",
      "source": [
        "Function for nouns and verbs"
      ],
      "metadata": {
        "id": "5wyaHc16FxvZ"
      }
    },
    {
      "cell_type": "code",
      "source": [
        "def verbs_nouns(eng_statement):\n",
        "    words = word_tokenize(eng_statement)\n",
        "    tagged_words = pos_tag(words)\n",
        "    auxiliary_verbs = ['am', 'is', 'are', 'was', 'were', 'has', 'had']\n",
        "    nouns = [words for words, pos in tagged_words if pos.startswith('NN')]\n",
        "\n",
        "    verbs = [word for word, pos in tagged_words if pos.startswith('VB')and word\n",
        "             not in auxiliary_verbs]\n",
        "\n",
        "    verbs = [lemmatizer.lemmatize(verb, pos='v') for verb in verbs]\n",
        "\n",
        "    translated_words = {'feedback':'प्रतिक्रिया', 'definitely':'निश्चित', 'section':'खण्ड'}\n",
        "    for noun in nouns:\n",
        "            hi_noun = hi_translation(noun)\n",
        "            translated_words[noun] = hi_noun\n",
        "    for verb in verbs:\n",
        "        hi_verb = hi_translation(verb)\n",
        "        modified_value = hi_verb.split(' ', 1)[0]\n",
        "        translated_words[verb] = modified_value\n",
        "    return translated_words"
      ],
      "metadata": {
        "id": "OwVb_EEa6CiN"
      },
      "execution_count": 9,
      "outputs": []
    },
    {
      "cell_type": "markdown",
      "source": [
        "Function to convert Hindi to Hinglish"
      ],
      "metadata": {
        "id": "L9-i9hAGITmV"
      }
    },
    {
      "cell_type": "code",
      "source": [
        "def hi_translation(eng_statement):\n",
        "    inputs = tokenizer.encode(eng_statement, return_tensors=\"pt\")\n",
        "    translated_id = model.generate(inputs, max_length=150, num_return_sequences=1, num_beams=4)\n",
        "    translated_output=tokenizer.decode(translated_id[0], skip_special_tokens=True)\n",
        "    translated_output = translated_output.replace('\\u200d', '') # handle ZWJ characters\n",
        "    return translated_output"
      ],
      "metadata": {
        "id": "18O01Zl26ndn"
      },
      "execution_count": 10,
      "outputs": []
    },
    {
      "cell_type": "markdown",
      "source": [
        "Hindi nouns are replaced with English nouns in order to maintain some English words."
      ],
      "metadata": {
        "id": "SAxhcjlTIxKX"
      }
    },
    {
      "cell_type": "code",
      "source": [
        "def noun_switch(nouns, hinglish_text):\n",
        "    for key, value in nouns.items():\n",
        "        matches = re.findall(r'\\b' + re.escape(value) + r'\\b', hinglish_text)\n",
        "        for match in matches:\n",
        "            hinglish_text = hinglish_text.replace(match, key)\n",
        "    return hinglish_text"
      ],
      "metadata": {
        "id": "1U3CjQUL6tjB"
      },
      "execution_count": 11,
      "outputs": []
    },
    {
      "cell_type": "code",
      "source": [
        "import nltk\n",
        "nltk.download('punkt')"
      ],
      "metadata": {
        "colab": {
          "base_uri": "https://localhost:8080/",
          "height": 0
        },
        "id": "TF0gXCSr7ymF",
        "outputId": "9d49111f-0c17-44de-ed52-ab5af01729da"
      },
      "execution_count": 15,
      "outputs": [
        {
          "output_type": "stream",
          "name": "stderr",
          "text": [
            "[nltk_data] Downloading package punkt to /root/nltk_data...\n",
            "[nltk_data]   Unzipping tokenizers/punkt.zip.\n"
          ]
        },
        {
          "output_type": "execute_result",
          "data": {
            "text/plain": [
              "True"
            ]
          },
          "metadata": {},
          "execution_count": 15
        }
      ]
    },
    {
      "cell_type": "code",
      "source": [
        "import nltk\n",
        "nltk.download('all')"
      ],
      "metadata": {
        "id": "7X3BRDlW8LFY"
      },
      "execution_count": null,
      "outputs": []
    },
    {
      "cell_type": "markdown",
      "source": [
        "Output Function"
      ],
      "metadata": {
        "id": "txRQlM_kJKfs"
      }
    },
    {
      "cell_type": "code",
      "source": [
        "eng_statement = input(\"INPUT : \")\n",
        "nouns = verbs_nouns(eng_statement)\n",
        "hi_text = hi_translation(eng_statement)\n",
        "for eng_word, hin_word in nouns.items():\n",
        "    hi_text = hi_text.replace(hin_word, eng_word)\n",
        "\n",
        "print(hi_text)"
      ],
      "metadata": {
        "colab": {
          "base_uri": "https://localhost:8080/",
          "height": 0
        },
        "id": "gDqy0lUl8mX0",
        "outputId": "73ae6e58-42e7-42b4-b70e-562d1bbcaea8"
      },
      "execution_count": 18,
      "outputs": [
        {
          "output_type": "stream",
          "name": "stdout",
          "text": [
            "INPUT : Definitely share your feedback in the comment section\n",
            "comment खण्ड में आपकी प्रतिक्रिया को definitely ही share करें\n"
          ]
        }
      ]
    },
    {
      "cell_type": "code",
      "source": [
        "eng_statement = input(\"INPUT : \")\n",
        "nouns = verbs_nouns(eng_statement)\n",
        "hi_text = hi_translation(eng_statement)\n",
        "for eng_word, hin_word in nouns.items():\n",
        "    hi_text = hi_text.replace(hin_word, eng_word)\n",
        "\n",
        "print(hi_text)"
      ],
      "metadata": {
        "colab": {
          "base_uri": "https://localhost:8080/",
          "height": 0
        },
        "id": "rYp6l4Jp99qq",
        "outputId": "5ef10134-ba8b-4f8e-d502-a7e5b1aac71e"
      },
      "execution_count": 20,
      "outputs": [
        {
          "output_type": "stream",
          "name": "stdout",
          "text": [
            "INPUT : So even if it's a big video, I will clearly mention all the products.\n",
            "तो यह एक बड़ा video है, तो भी मैं स्पष्ट रूप से सभी productsों का mention करेंगे।\n"
          ]
        }
      ]
    },
    {
      "cell_type": "code",
      "source": [
        "eng_statement = input(\"INPUT : \")\n",
        "nouns = verbs_nouns(eng_statement)\n",
        "hi_text = hi_translation(eng_statement)\n",
        "for eng_word, hin_word in nouns.items():\n",
        "    hi_text = hi_text.replace(hin_word, eng_word)\n",
        "\n",
        "print(hi_text)"
      ],
      "metadata": {
        "colab": {
          "base_uri": "https://localhost:8080/",
          "height": 0
        },
        "id": "_Q582q8v-KK5",
        "outputId": "3fdb52ae-959f-4635-a246-c26e687e670f"
      },
      "execution_count": 21,
      "outputs": [
        {
          "output_type": "stream",
          "name": "stdout",
          "text": [
            "INPUT : . I was waiting for my bag\n",
            "मैं अपने बैग के लिए wait कर रहा था\n"
          ]
        }
      ]
    }
  ]
}